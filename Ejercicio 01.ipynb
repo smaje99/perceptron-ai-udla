{
 "cells": [
  {
   "cell_type": "code",
   "execution_count": 1,
   "id": "3e487fc4",
   "metadata": {
    "ExecuteTime": {
     "end_time": "2021-07-28T22:05:18.587286Z",
     "start_time": "2021-07-28T22:05:18.277283Z"
    }
   },
   "outputs": [],
   "source": [
    "import numpy as np\n",
    "import random as r"
   ]
  },
  {
   "cell_type": "code",
   "execution_count": 2,
   "id": "ebc5f9ba",
   "metadata": {
    "ExecuteTime": {
     "end_time": "2021-07-28T22:05:18.603294Z",
     "start_time": "2021-07-28T22:05:18.591284Z"
    }
   },
   "outputs": [],
   "source": [
    "class Perceptron:\n",
    "    __slots__ = 'bias', 'weights', 'output', 'inputs'\n",
    "    \n",
    "    def __init__(self):\n",
    "        self.bias = r.random()\n",
    "        self.weights = np.array([0])\n",
    "        self.output = None\n",
    "        \n",
    "    def propagation(self, inputs):\n",
    "        if not np.all(self.weights): self.weights = np.random.randn(inputs.size)\n",
    "        self.output = 1 * ((self.weights.dot(inputs) - self.bias) > 0)\n",
    "        self.inputs = inputs\n",
    "        \n",
    "    def update(self, lr, output):\n",
    "        error = output - self.output \n",
    "        if error:\n",
    "            self.weights = np.array(w + lr * error * x \\\n",
    "                                    for x, w in np.column_stack((self.inputs, self.weights)))\n",
    "            self.bias = self.bias + lr * error"
   ]
  },
  {
   "cell_type": "code",
   "execution_count": 3,
   "id": "39a5a6db",
   "metadata": {
    "ExecuteTime": {
     "end_time": "2021-07-28T22:05:18.745285Z",
     "start_time": "2021-07-28T22:05:18.607284Z"
    }
   },
   "outputs": [
    {
     "data": {
      "text/plain": [
       "1"
      ]
     },
     "execution_count": 3,
     "metadata": {},
     "output_type": "execute_result"
    }
   ],
   "source": [
    "p = Perceptron()\n",
    "p.propagation(np.array([1, 0, 0]))\n",
    "p.output"
   ]
  },
  {
   "cell_type": "code",
   "execution_count": 4,
   "id": "4735f373",
   "metadata": {
    "ExecuteTime": {
     "end_time": "2021-07-28T22:05:18.930288Z",
     "start_time": "2021-07-28T22:05:18.750283Z"
    }
   },
   "outputs": [],
   "source": [
    "p.update(.5, 1)"
   ]
  },
  {
   "cell_type": "code",
   "execution_count": 5,
   "id": "cd3b309c",
   "metadata": {
    "ExecuteTime": {
     "end_time": "2021-07-28T22:05:19.054282Z",
     "start_time": "2021-07-28T22:05:18.934282Z"
    }
   },
   "outputs": [
    {
     "data": {
      "text/plain": [
       "(array([ 2.66752276,  0.33316784, -0.28688303]), 0.39840231020653327)"
      ]
     },
     "execution_count": 5,
     "metadata": {},
     "output_type": "execute_result"
    }
   ],
   "source": [
    "p.weights, p.bias"
   ]
  },
  {
   "cell_type": "code",
   "execution_count": 6,
   "id": "6c282ae5",
   "metadata": {
    "ExecuteTime": {
     "end_time": "2021-07-28T22:05:19.194284Z",
     "start_time": "2021-07-28T22:05:19.060282Z"
    }
   },
   "outputs": [
    {
     "data": {
      "text/plain": [
       "1"
      ]
     },
     "execution_count": 6,
     "metadata": {},
     "output_type": "execute_result"
    }
   ],
   "source": [
    "p.propagation(np.array([1, 1, 0]))\n",
    "p.output"
   ]
  },
  {
   "cell_type": "code",
   "execution_count": 7,
   "id": "4ac7571a",
   "metadata": {
    "ExecuteTime": {
     "end_time": "2021-07-28T22:05:19.336285Z",
     "start_time": "2021-07-28T22:05:19.198284Z"
    }
   },
   "outputs": [
    {
     "data": {
      "text/plain": [
       "(array([ 2.66752276,  0.33316784, -0.28688303]), 0.39840231020653327)"
      ]
     },
     "execution_count": 7,
     "metadata": {},
     "output_type": "execute_result"
    }
   ],
   "source": [
    "p.update(.5, 1)\n",
    "p.weights, p.bias"
   ]
  },
  {
   "cell_type": "code",
   "execution_count": 10,
   "id": "9985f2e7",
   "metadata": {
    "ExecuteTime": {
     "end_time": "2021-07-28T22:08:00.094729Z",
     "start_time": "2021-07-28T22:08:00.070726Z"
    }
   },
   "outputs": [
    {
     "data": {
      "text/plain": [
       "0"
      ]
     },
     "execution_count": 10,
     "metadata": {},
     "output_type": "execute_result"
    }
   ],
   "source": [
    "p.propagation(np.array([0, 0, 0]))\n",
    "p.output"
   ]
  },
  {
   "cell_type": "code",
   "execution_count": 11,
   "id": "783c727e",
   "metadata": {
    "ExecuteTime": {
     "end_time": "2021-07-28T22:08:14.466682Z",
     "start_time": "2021-07-28T22:08:14.448683Z"
    }
   },
   "outputs": [
    {
     "data": {
      "text/plain": [
       "(array([ 2.66752276,  0.33316784, -0.28688303]), 0.39840231020653327)"
      ]
     },
     "execution_count": 11,
     "metadata": {},
     "output_type": "execute_result"
    }
   ],
   "source": [
    "p.update(.5, 0)\n",
    "p.weights, p.bias"
   ]
  }
 ],
 "metadata": {
  "kernelspec": {
   "display_name": "Perceptron",
   "language": "python",
   "name": "venv"
  },
  "language_info": {
   "codemirror_mode": {
    "name": "ipython",
    "version": 3
   },
   "file_extension": ".py",
   "mimetype": "text/x-python",
   "name": "python",
   "nbconvert_exporter": "python",
   "pygments_lexer": "ipython3",
   "version": "3.9.2"
  },
  "varInspector": {
   "cols": {
    "lenName": 16,
    "lenType": 16,
    "lenVar": 40
   },
   "kernels_config": {
    "python": {
     "delete_cmd_postfix": "",
     "delete_cmd_prefix": "del ",
     "library": "var_list.py",
     "varRefreshCmd": "print(var_dic_list())"
    },
    "r": {
     "delete_cmd_postfix": ") ",
     "delete_cmd_prefix": "rm(",
     "library": "var_list.r",
     "varRefreshCmd": "cat(var_dic_list()) "
    }
   },
   "types_to_exclude": [
    "module",
    "function",
    "builtin_function_or_method",
    "instance",
    "_Feature"
   ],
   "window_display": false
  }
 },
 "nbformat": 4,
 "nbformat_minor": 5
}
