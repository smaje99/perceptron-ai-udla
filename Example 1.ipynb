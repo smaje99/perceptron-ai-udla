{
 "cells": [
  {
   "cell_type": "code",
   "execution_count": 1,
   "id": "97680665",
   "metadata": {
    "ExecuteTime": {
     "end_time": "2021-07-26T05:16:30.380946Z",
     "start_time": "2021-07-26T05:16:29.959916Z"
    }
   },
   "outputs": [],
   "source": [
    "import numpy as np\n",
    "import matplotlib.pyplot as plt"
   ]
  },
  {
   "cell_type": "code",
   "execution_count": 2,
   "id": "c28a3123",
   "metadata": {
    "ExecuteTime": {
     "end_time": "2021-07-26T05:16:30.428947Z",
     "start_time": "2021-07-26T05:16:30.382913Z"
    }
   },
   "outputs": [],
   "source": [
    "class Perceptron:\n",
    "    def __init__(self, number_inputs: int):\n",
    "        self.weights = np.random.randn(number_inputs)\n",
    "        self.number_inputs = number_inputs\n",
    "        \n",
    "    def propagation(self, inputs):\n",
    "        self.output = 1 * (self.weights.dot(inputs) > 0)\n",
    "        self.inputs = inputs\n",
    "        \n",
    "    def coefficient_update(self, alfa, output):\n",
    "        '''Se actualizan los pesos para retroalimentar el perceptron'''\n",
    "        for i in range(self.number_inputs):\n",
    "            self.weights[i] = self.weights[i] + alfa * (output + self.output) * self.inputs[i]"
   ]
  },
  {
   "cell_type": "markdown",
   "id": "b0707922",
   "metadata": {},
   "source": [
    "## Creación de un Perceptrón de tres entradas."
   ]
  },
  {
   "cell_type": "code",
   "execution_count": 3,
   "id": "a70940b7",
   "metadata": {
    "ExecuteTime": {
     "end_time": "2021-07-26T05:16:30.602948Z",
     "start_time": "2021-07-26T05:16:30.430910Z"
    }
   },
   "outputs": [],
   "source": [
    "three_input_perceptron = Perceptron(3)"
   ]
  },
  {
   "cell_type": "code",
   "execution_count": 4,
   "id": "6862ee8a",
   "metadata": {
    "ExecuteTime": {
     "end_time": "2021-07-26T05:16:30.712911Z",
     "start_time": "2021-07-26T05:16:30.605910Z"
    }
   },
   "outputs": [
    {
     "data": {
      "text/plain": [
       "array([-1.30136235,  2.16623273,  0.83248954])"
      ]
     },
     "execution_count": 4,
     "metadata": {},
     "output_type": "execute_result"
    }
   ],
   "source": [
    "three_input_perceptron.weights"
   ]
  },
  {
   "cell_type": "code",
   "execution_count": 5,
   "id": "e6e49ea9",
   "metadata": {
    "ExecuteTime": {
     "end_time": "2021-07-26T05:16:30.856915Z",
     "start_time": "2021-07-26T05:16:30.714910Z"
    }
   },
   "outputs": [
    {
     "data": {
      "text/plain": [
       "0"
      ]
     },
     "execution_count": 5,
     "metadata": {},
     "output_type": "execute_result"
    }
   ],
   "source": [
    "three_input_perceptron.propagation([1, 0, 1])\n",
    "three_input_perceptron.output"
   ]
  },
  {
   "cell_type": "code",
   "execution_count": 6,
   "id": "38e38546",
   "metadata": {
    "ExecuteTime": {
     "end_time": "2021-07-26T05:16:30.980914Z",
     "start_time": "2021-07-26T05:16:30.858917Z"
    }
   },
   "outputs": [
    {
     "data": {
      "text/plain": [
       "array([-0.80136235,  2.16623273,  1.33248954])"
      ]
     },
     "execution_count": 6,
     "metadata": {},
     "output_type": "execute_result"
    }
   ],
   "source": [
    "three_input_perceptron.coefficient_update(0.5, 1)\n",
    "three_input_perceptron.weights"
   ]
  },
  {
   "cell_type": "markdown",
   "id": "453aeaa5",
   "metadata": {},
   "source": [
    "## Ejemplo. Aprendizaje función lógica AND"
   ]
  },
  {
   "cell_type": "code",
   "execution_count": 7,
   "id": "4409b65d",
   "metadata": {
    "ExecuteTime": {
     "end_time": "2021-07-26T05:16:31.123078Z",
     "start_time": "2021-07-26T05:16:30.982911Z"
    }
   },
   "outputs": [],
   "source": [
    "perceptron_and = Perceptron(3)"
   ]
  },
  {
   "cell_type": "code",
   "execution_count": 8,
   "id": "9c03c290",
   "metadata": {
    "ExecuteTime": {
     "end_time": "2021-07-26T05:16:31.296773Z",
     "start_time": "2021-07-26T05:16:31.123771Z"
    }
   },
   "outputs": [],
   "source": [
    "examples = np.array([[0, 0, 1, 0],\n",
    "                     [0, 1, 1, 0],\n",
    "                     [1, 0, 1, 0],\n",
    "                     [1, 1, 1, 1]])"
   ]
  },
  {
   "cell_type": "code",
   "execution_count": 9,
   "id": "75443bb1",
   "metadata": {
    "ExecuteTime": {
     "end_time": "2021-07-26T05:16:31.468775Z",
     "start_time": "2021-07-26T05:16:31.300775Z"
    }
   },
   "outputs": [],
   "source": [
    "grad_weights = [perceptron_and.weights]\n",
    "\n",
    "for epoch in range(100):\n",
    "    for i in range(4):\n",
    "        perceptron_and.propagation(examples[i, 0:3])\n",
    "        perceptron_and.coefficient_update(0.5, examples[i, 3])\n",
    "        grad_weights = np.concatenate((grad_weights, [perceptron_and.weights]), axis=0)"
   ]
  },
  {
   "cell_type": "code",
   "execution_count": 10,
   "id": "a63add15",
   "metadata": {
    "ExecuteTime": {
     "end_time": "2021-07-26T05:16:31.752776Z",
     "start_time": "2021-07-26T05:16:31.474781Z"
    }
   },
   "outputs": [
    {
     "data": {
      "image/png": "[encoded data removed]",
      "text/plain": [
       "<Figure size 432x288 with 1 Axes>"
      ]
     },
     "metadata": {
      "needs_background": "light"
     },
     "output_type": "display_data"
    }
   ],
   "source": [
    "plt.plot(grad_weights[:, 0], 'g')\n",
    "plt.plot(grad_weights[:, 1], 'r')\n",
    "plt.plot(grad_weights[:, 2], 'b')\n",
    "\n",
    "plt.show()"
   ]
  },
  {
   "cell_type": "code",
   "execution_count": null,
   "id": "93e59309",
   "metadata": {},
   "outputs": [],
   "source": []
  }
 ],
 "metadata": {
  "kernelspec": {
   "display_name": "Perceptron",
   "language": "python",
   "name": "venv"
  },
  "language_info": {
   "codemirror_mode": {
    "name": "ipython",
    "version": 3
   },
   "file_extension": ".py",
   "mimetype": "text/x-python",
   "name": "python",
   "nbconvert_exporter": "python",
   "pygments_lexer": "ipython3",
   "version": "3.9.2"
  },
  "varInspector": {
   "cols": {
    "lenName": 16,
    "lenType": 16,
    "lenVar": 40
   },
   "kernels_config": {
    "python": {
     "delete_cmd_postfix": "",
     "delete_cmd_prefix": "del ",
     "library": "var_list.py",
     "varRefreshCmd": "print(var_dic_list())"
    },
    "r": {
     "delete_cmd_postfix": ") ",
     "delete_cmd_prefix": "rm(",
     "library": "var_list.r",
     "varRefreshCmd": "cat(var_dic_list()) "
    }
   },
   "types_to_exclude": [
    "module",
    "function",
    "builtin_function_or_method",
    "instance",
    "_Feature"
   ],
   "window_display": false
  }
 },
 "nbformat": 4,
 "nbformat_minor": 5
}
