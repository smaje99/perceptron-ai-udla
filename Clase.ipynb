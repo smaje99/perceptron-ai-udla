{
 "cells": [
  {
   "cell_type": "markdown",
   "id": "02122421",
   "metadata": {},
   "source": [
    "# Perceptrón\n",
    "consiste en una *suma* de las señales de **entrada**, *multiplicadas* por unos valores de **pesos escogidos** inicialmente en forma **aleatoria**.\n",
    "\n",
    "Puede clasificar conjuntos de datos que son **linealmente separables**\n",
    "\n",
    "![](img/proceso.png)\n",
    "![](img/linealmente_separables.png)\n",
    "![](img/operadores_logicos.png)\n",
    "![](img/lineal_vs_no_lineal.png)"
   ]
  },
  {
   "cell_type": "markdown",
   "id": "51ebc209",
   "metadata": {},
   "source": [
    "## Aprendizaje\n",
    "La **entrada** se **compara** con un *patrón preestablecido* para determinar la **salida**.\n",
    "\n",
    "Si en la **comparación** la suma de las entradas multiplicadas por los pesos es mayor o igual que el patrón preestablecido, **la salidad de la red es uno (1); en caso contrario la salida es cero (0)**.\n",
    "\n",
    "$ f(z) $ es llamada **función de activación** y utiliza la suma de estímulos para determinar la actividad de la *salida de la neurona*\n",
    "\n",
    "**Los pesos** pueden ser **positivos** (exitación) o **negativos** (inhibición) y junto con las funciones $ f(z) $ *dictan la operacion de la red neuronal*.\n",
    "\n",
    "Normalmente la *función de activacion no se modifica*, así **el estado de la red neuronal** *depende del valor de los factores del peso* **(sipnasis)** que se apliquen a los estimulos de la neurona.\n",
    "\n",
    "El **entranimiento** de un perceptrón se realiza por medio de una *regla de aprendizaje*. Para cada peso $ w $ se realiza un *ajuste* $ dw $ según la regla:\n",
    "$$ dw = \\eta (y - Y) X $$"
   ]
  },
  {
   "cell_type": "markdown",
   "id": "7905b96c",
   "metadata": {},
   "source": [
    "### Regla de aprendizaje\n",
    "$$ dw = \\eta (y - Y) X $$\n",
    "\n",
    "$ \\eta $ - tasa de aprendizaje (aprender paulatinamente) $ \\\\ $\n",
    "$ y $ - valor deseado (esperado) $ \\\\ $\n",
    "$ Y $ - valor obtenido $ \\\\ $\n",
    "$ X $ - valor de entrada"
   ]
  },
  {
   "cell_type": "markdown",
   "id": "d8fc8ddf",
   "metadata": {},
   "source": [
    "![](img/epoca.png)"
   ]
  },
  {
   "cell_type": "markdown",
   "id": "2a58d20e",
   "metadata": {},
   "source": [
    "### Actualización del vector de pesos\n",
    "$$ n(n + 1) = w(n) + \\eta[d(n) - y(n)] X(n) $$\n",
    "\n",
    "$$ d(n) =  \\left \\{ \\begin{matrix} +1 & \\mbox{si } x(n) \\mbox{ pertenece a la clase } C_{1}\n",
    "\\\\ -1 & \\mbox{si } x(n) \\mbox{ pertenece a la clase } C_{2} \\end{matrix}\\right.$$"
   ]
  },
  {
   "cell_type": "code",
   "execution_count": 2,
   "id": "c0f8b26d",
   "metadata": {
    "ExecuteTime": {
     "end_time": "2021-07-28T19:57:21.178360Z",
     "start_time": "2021-07-28T19:57:21.157400Z"
    }
   },
   "outputs": [
    {
     "name": "stdout",
     "output_type": "stream",
     "text": [
      "[[1 2]\n",
      " [3 4]\n",
      " [5 6]\n",
      " [7 8]]\n"
     ]
    }
   ],
   "source": [
    "import numpy as np\n",
    "\n",
    "a = np.array([1,3,5,7])\n",
    "b = np.array([2,4,6,8])\n",
    "\n",
    "d = np.column_stack((a,b))\n",
    "\n",
    "print(d)"
   ]
  },
  {
   "cell_type": "code",
   "execution_count": 13,
   "id": "6a461df4",
   "metadata": {
    "ExecuteTime": {
     "end_time": "2021-07-28T20:13:21.614968Z",
     "start_time": "2021-07-28T20:13:21.600001Z"
    }
   },
   "outputs": [
    {
     "name": "stdout",
     "output_type": "stream",
     "text": [
      "5.000001692678779e-07\n",
      "9.99999883788405e-07\n"
     ]
    }
   ],
   "source": [
    "import timeit\n",
    "\n",
    "print(timeit.timeit('1 * True', number=1))\n",
    "print(timeit.timeit('int(True)', number=1))"
   ]
  }
 ],
 "metadata": {
  "kernelspec": {
   "display_name": "Perceptron",
   "language": "python",
   "name": "venv"
  },
  "language_info": {
   "codemirror_mode": {
    "name": "ipython",
    "version": 3
   },
   "file_extension": ".py",
   "mimetype": "text/x-python",
   "name": "python",
   "nbconvert_exporter": "python",
   "pygments_lexer": "ipython3",
   "version": "3.9.2"
  },
  "varInspector": {
   "cols": {
    "lenName": 16,
    "lenType": 16,
    "lenVar": 40
   },
   "kernels_config": {
    "python": {
     "delete_cmd_postfix": "",
     "delete_cmd_prefix": "del ",
     "library": "var_list.py",
     "varRefreshCmd": "print(var_dic_list())"
    },
    "r": {
     "delete_cmd_postfix": ") ",
     "delete_cmd_prefix": "rm(",
     "library": "var_list.r",
     "varRefreshCmd": "cat(var_dic_list()) "
    }
   },
   "types_to_exclude": [
    "module",
    "function",
    "builtin_function_or_method",
    "instance",
    "_Feature"
   ],
   "window_display": false
  }
 },
 "nbformat": 4,
 "nbformat_minor": 5
}
